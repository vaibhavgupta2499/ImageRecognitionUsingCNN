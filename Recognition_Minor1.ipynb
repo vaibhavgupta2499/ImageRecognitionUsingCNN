{
  "nbformat": 4,
  "nbformat_minor": 0,
  "metadata": {
    "accelerator": "GPU",
    "colab": {
      "name": "Recognition_Minor1.ipynb",
      "provenance": [],
      "collapsed_sections": [
        "DVR1FiuJ-BzX"
      ]
    },
    "kernelspec": {
      "display_name": "Python 3",
      "name": "python3"
    },
    "widgets": {
      "application/vnd.jupyter.widget-state+json": {
        "58d4c8ff778f40e98daf7d28829c82f3": {
          "model_module": "@jupyter-widgets/controls",
          "model_name": "HBoxModel",
          "state": {
            "_dom_classes": [],
            "_model_module": "@jupyter-widgets/controls",
            "_model_module_version": "1.5.0",
            "_model_name": "HBoxModel",
            "_view_count": null,
            "_view_module": "@jupyter-widgets/controls",
            "_view_module_version": "1.5.0",
            "_view_name": "HBoxView",
            "box_style": "",
            "children": [
              "IPY_MODEL_53c34d36394d44e1956ed7e1614c0174",
              "IPY_MODEL_98649b65f60f460782081f3ef3292268"
            ],
            "layout": "IPY_MODEL_61cf1825adc34bbda210811d7244af86"
          }
        },
        "53c34d36394d44e1956ed7e1614c0174": {
          "model_module": "@jupyter-widgets/controls",
          "model_name": "FloatProgressModel",
          "state": {
            "_dom_classes": [],
            "_model_module": "@jupyter-widgets/controls",
            "_model_module_version": "1.5.0",
            "_model_name": "FloatProgressModel",
            "_view_count": null,
            "_view_module": "@jupyter-widgets/controls",
            "_view_module_version": "1.5.0",
            "_view_name": "ProgressView",
            "bar_style": "success",
            "description": "",
            "description_tooltip": null,
            "layout": "IPY_MODEL_987b90badeb04807aca7a58a8bb5c13f",
            "max": 1,
            "min": 0,
            "orientation": "horizontal",
            "style": "IPY_MODEL_3b8ff4553cd24ab9bd445062938f0db9",
            "value": 0
          }
        },
        "98649b65f60f460782081f3ef3292268": {
          "model_module": "@jupyter-widgets/controls",
          "model_name": "HTMLModel",
          "state": {
            "_dom_classes": [],
            "_model_module": "@jupyter-widgets/controls",
            "_model_module_version": "1.5.0",
            "_model_name": "HTMLModel",
            "_view_count": null,
            "_view_module": "@jupyter-widgets/controls",
            "_view_module_version": "1.5.0",
            "_view_name": "HTMLView",
            "description": "",
            "description_tooltip": null,
            "layout": "IPY_MODEL_24fb2474b2d44a05900dde554f3fb7df",
            "placeholder": "​",
            "style": "IPY_MODEL_fd4250fd31f14b3ea76e1767536bbf40",
            "value": " 0/? [00:06&lt;?, ?it/s]"
          }
        },
        "61cf1825adc34bbda210811d7244af86": {
          "model_module": "@jupyter-widgets/base",
          "model_name": "LayoutModel",
          "state": {
            "_model_module": "@jupyter-widgets/base",
            "_model_module_version": "1.2.0",
            "_model_name": "LayoutModel",
            "_view_count": null,
            "_view_module": "@jupyter-widgets/base",
            "_view_module_version": "1.2.0",
            "_view_name": "LayoutView",
            "align_content": null,
            "align_items": null,
            "align_self": null,
            "border": null,
            "bottom": null,
            "display": null,
            "flex": null,
            "flex_flow": null,
            "grid_area": null,
            "grid_auto_columns": null,
            "grid_auto_flow": null,
            "grid_auto_rows": null,
            "grid_column": null,
            "grid_gap": null,
            "grid_row": null,
            "grid_template_areas": null,
            "grid_template_columns": null,
            "grid_template_rows": null,
            "height": null,
            "justify_content": null,
            "justify_items": null,
            "left": null,
            "margin": null,
            "max_height": null,
            "max_width": null,
            "min_height": null,
            "min_width": null,
            "object_fit": null,
            "object_position": null,
            "order": null,
            "overflow": null,
            "overflow_x": null,
            "overflow_y": null,
            "padding": null,
            "right": null,
            "top": null,
            "visibility": null,
            "width": null
          }
        },
        "987b90badeb04807aca7a58a8bb5c13f": {
          "model_module": "@jupyter-widgets/base",
          "model_name": "LayoutModel",
          "state": {
            "_model_module": "@jupyter-widgets/base",
            "_model_module_version": "1.2.0",
            "_model_name": "LayoutModel",
            "_view_count": null,
            "_view_module": "@jupyter-widgets/base",
            "_view_module_version": "1.2.0",
            "_view_name": "LayoutView",
            "align_content": null,
            "align_items": null,
            "align_self": null,
            "border": null,
            "bottom": null,
            "display": null,
            "flex": null,
            "flex_flow": null,
            "grid_area": null,
            "grid_auto_columns": null,
            "grid_auto_flow": null,
            "grid_auto_rows": null,
            "grid_column": null,
            "grid_gap": null,
            "grid_row": null,
            "grid_template_areas": null,
            "grid_template_columns": null,
            "grid_template_rows": null,
            "height": null,
            "justify_content": null,
            "justify_items": null,
            "left": null,
            "margin": null,
            "max_height": null,
            "max_width": null,
            "min_height": null,
            "min_width": null,
            "object_fit": null,
            "object_position": null,
            "order": null,
            "overflow": null,
            "overflow_x": null,
            "overflow_y": null,
            "padding": null,
            "right": null,
            "top": null,
            "visibility": null,
            "width": null
          }
        },
        "3b8ff4553cd24ab9bd445062938f0db9": {
          "model_module": "@jupyter-widgets/controls",
          "model_name": "ProgressStyleModel",
          "state": {
            "_model_module": "@jupyter-widgets/controls",
            "_model_module_version": "1.5.0",
            "_model_name": "ProgressStyleModel",
            "_view_count": null,
            "_view_module": "@jupyter-widgets/base",
            "_view_module_version": "1.2.0",
            "_view_name": "StyleView",
            "bar_color": null,
            "description_width": "initial"
          }
        },
        "24fb2474b2d44a05900dde554f3fb7df": {
          "model_module": "@jupyter-widgets/base",
          "model_name": "LayoutModel",
          "state": {
            "_model_module": "@jupyter-widgets/base",
            "_model_module_version": "1.2.0",
            "_model_name": "LayoutModel",
            "_view_count": null,
            "_view_module": "@jupyter-widgets/base",
            "_view_module_version": "1.2.0",
            "_view_name": "LayoutView",
            "align_content": null,
            "align_items": null,
            "align_self": null,
            "border": null,
            "bottom": null,
            "display": null,
            "flex": null,
            "flex_flow": null,
            "grid_area": null,
            "grid_auto_columns": null,
            "grid_auto_flow": null,
            "grid_auto_rows": null,
            "grid_column": null,
            "grid_gap": null,
            "grid_row": null,
            "grid_template_areas": null,
            "grid_template_columns": null,
            "grid_template_rows": null,
            "height": null,
            "justify_content": null,
            "justify_items": null,
            "left": null,
            "margin": null,
            "max_height": null,
            "max_width": null,
            "min_height": null,
            "min_width": null,
            "object_fit": null,
            "object_position": null,
            "order": null,
            "overflow": null,
            "overflow_x": null,
            "overflow_y": null,
            "padding": null,
            "right": null,
            "top": null,
            "visibility": null,
            "width": null
          }
        },
        "fd4250fd31f14b3ea76e1767536bbf40": {
          "model_module": "@jupyter-widgets/controls",
          "model_name": "DescriptionStyleModel",
          "state": {
            "_model_module": "@jupyter-widgets/controls",
            "_model_module_version": "1.5.0",
            "_model_name": "DescriptionStyleModel",
            "_view_count": null,
            "_view_module": "@jupyter-widgets/base",
            "_view_module_version": "1.2.0",
            "_view_name": "StyleView",
            "description_width": ""
          }
        },
        "37cc23646d794ee0b1040a8741802298": {
          "model_module": "@jupyter-widgets/controls",
          "model_name": "HBoxModel",
          "state": {
            "_dom_classes": [],
            "_model_module": "@jupyter-widgets/controls",
            "_model_module_version": "1.5.0",
            "_model_name": "HBoxModel",
            "_view_count": null,
            "_view_module": "@jupyter-widgets/controls",
            "_view_module_version": "1.5.0",
            "_view_name": "HBoxView",
            "box_style": "",
            "children": [
              "IPY_MODEL_7f2e54d70c9d4ecd948cf8713fb6951e",
              "IPY_MODEL_3879e40007fa4a6cbf177779f476fe65"
            ],
            "layout": "IPY_MODEL_dc614e9f2acb4d128eb1b1c2f27da9c4"
          }
        },
        "7f2e54d70c9d4ecd948cf8713fb6951e": {
          "model_module": "@jupyter-widgets/controls",
          "model_name": "FloatProgressModel",
          "state": {
            "_dom_classes": [],
            "_model_module": "@jupyter-widgets/controls",
            "_model_module_version": "1.5.0",
            "_model_name": "FloatProgressModel",
            "_view_count": null,
            "_view_module": "@jupyter-widgets/controls",
            "_view_module_version": "1.5.0",
            "_view_name": "ProgressView",
            "bar_style": "success",
            "description": "",
            "description_tooltip": null,
            "layout": "IPY_MODEL_5ef2d3b1b588458ebafad185361f3915",
            "max": 1,
            "min": 0,
            "orientation": "horizontal",
            "style": "IPY_MODEL_aeeee26de1884eb4905fe853a0467089",
            "value": 1
          }
        },
        "3879e40007fa4a6cbf177779f476fe65": {
          "model_module": "@jupyter-widgets/controls",
          "model_name": "HTMLModel",
          "state": {
            "_dom_classes": [],
            "_model_module": "@jupyter-widgets/controls",
            "_model_module_version": "1.5.0",
            "_model_name": "HTMLModel",
            "_view_count": null,
            "_view_module": "@jupyter-widgets/controls",
            "_view_module_version": "1.5.0",
            "_view_name": "HTMLView",
            "description": "",
            "description_tooltip": null,
            "layout": "IPY_MODEL_7c7364e7b0064591b995b0bd9f8c7493",
            "placeholder": "​",
            "style": "IPY_MODEL_cbff30530a924deebe17a83aca9253e3",
            "value": " 170500096/? [00:06&lt;00:00, 26796305.17it/s]"
          }
        },
        "dc614e9f2acb4d128eb1b1c2f27da9c4": {
          "model_module": "@jupyter-widgets/base",
          "model_name": "LayoutModel",
          "state": {
            "_model_module": "@jupyter-widgets/base",
            "_model_module_version": "1.2.0",
            "_model_name": "LayoutModel",
            "_view_count": null,
            "_view_module": "@jupyter-widgets/base",
            "_view_module_version": "1.2.0",
            "_view_name": "LayoutView",
            "align_content": null,
            "align_items": null,
            "align_self": null,
            "border": null,
            "bottom": null,
            "display": null,
            "flex": null,
            "flex_flow": null,
            "grid_area": null,
            "grid_auto_columns": null,
            "grid_auto_flow": null,
            "grid_auto_rows": null,
            "grid_column": null,
            "grid_gap": null,
            "grid_row": null,
            "grid_template_areas": null,
            "grid_template_columns": null,
            "grid_template_rows": null,
            "height": null,
            "justify_content": null,
            "justify_items": null,
            "left": null,
            "margin": null,
            "max_height": null,
            "max_width": null,
            "min_height": null,
            "min_width": null,
            "object_fit": null,
            "object_position": null,
            "order": null,
            "overflow": null,
            "overflow_x": null,
            "overflow_y": null,
            "padding": null,
            "right": null,
            "top": null,
            "visibility": null,
            "width": null
          }
        },
        "5ef2d3b1b588458ebafad185361f3915": {
          "model_module": "@jupyter-widgets/base",
          "model_name": "LayoutModel",
          "state": {
            "_model_module": "@jupyter-widgets/base",
            "_model_module_version": "1.2.0",
            "_model_name": "LayoutModel",
            "_view_count": null,
            "_view_module": "@jupyter-widgets/base",
            "_view_module_version": "1.2.0",
            "_view_name": "LayoutView",
            "align_content": null,
            "align_items": null,
            "align_self": null,
            "border": null,
            "bottom": null,
            "display": null,
            "flex": null,
            "flex_flow": null,
            "grid_area": null,
            "grid_auto_columns": null,
            "grid_auto_flow": null,
            "grid_auto_rows": null,
            "grid_column": null,
            "grid_gap": null,
            "grid_row": null,
            "grid_template_areas": null,
            "grid_template_columns": null,
            "grid_template_rows": null,
            "height": null,
            "justify_content": null,
            "justify_items": null,
            "left": null,
            "margin": null,
            "max_height": null,
            "max_width": null,
            "min_height": null,
            "min_width": null,
            "object_fit": null,
            "object_position": null,
            "order": null,
            "overflow": null,
            "overflow_x": null,
            "overflow_y": null,
            "padding": null,
            "right": null,
            "top": null,
            "visibility": null,
            "width": null
          }
        },
        "aeeee26de1884eb4905fe853a0467089": {
          "model_module": "@jupyter-widgets/controls",
          "model_name": "ProgressStyleModel",
          "state": {
            "_model_module": "@jupyter-widgets/controls",
            "_model_module_version": "1.5.0",
            "_model_name": "ProgressStyleModel",
            "_view_count": null,
            "_view_module": "@jupyter-widgets/base",
            "_view_module_version": "1.2.0",
            "_view_name": "StyleView",
            "bar_color": null,
            "description_width": "initial"
          }
        },
        "7c7364e7b0064591b995b0bd9f8c7493": {
          "model_module": "@jupyter-widgets/base",
          "model_name": "LayoutModel",
          "state": {
            "_model_module": "@jupyter-widgets/base",
            "_model_module_version": "1.2.0",
            "_model_name": "LayoutModel",
            "_view_count": null,
            "_view_module": "@jupyter-widgets/base",
            "_view_module_version": "1.2.0",
            "_view_name": "LayoutView",
            "align_content": null,
            "align_items": null,
            "align_self": null,
            "border": null,
            "bottom": null,
            "display": null,
            "flex": null,
            "flex_flow": null,
            "grid_area": null,
            "grid_auto_columns": null,
            "grid_auto_flow": null,
            "grid_auto_rows": null,
            "grid_column": null,
            "grid_gap": null,
            "grid_row": null,
            "grid_template_areas": null,
            "grid_template_columns": null,
            "grid_template_rows": null,
            "height": null,
            "justify_content": null,
            "justify_items": null,
            "left": null,
            "margin": null,
            "max_height": null,
            "max_width": null,
            "min_height": null,
            "min_width": null,
            "object_fit": null,
            "object_position": null,
            "order": null,
            "overflow": null,
            "overflow_x": null,
            "overflow_y": null,
            "padding": null,
            "right": null,
            "top": null,
            "visibility": null,
            "width": null
          }
        },
        "cbff30530a924deebe17a83aca9253e3": {
          "model_module": "@jupyter-widgets/controls",
          "model_name": "DescriptionStyleModel",
          "state": {
            "_model_module": "@jupyter-widgets/controls",
            "_model_module_version": "1.5.0",
            "_model_name": "DescriptionStyleModel",
            "_view_count": null,
            "_view_module": "@jupyter-widgets/base",
            "_view_module_version": "1.2.0",
            "_view_name": "StyleView",
            "description_width": ""
          }
        },
        "09becf37cc1242e9a80cb13445613e63": {
          "model_module": "@jupyter-widgets/controls",
          "model_name": "HBoxModel",
          "state": {
            "_dom_classes": [],
            "_model_module": "@jupyter-widgets/controls",
            "_model_module_version": "1.5.0",
            "_model_name": "HBoxModel",
            "_view_count": null,
            "_view_module": "@jupyter-widgets/controls",
            "_view_module_version": "1.5.0",
            "_view_name": "HBoxView",
            "box_style": "",
            "children": [
              "IPY_MODEL_1d66ddc967e6482b9a109f406f6bc5b5",
              "IPY_MODEL_63c13e4e28e248f08e58a99fffc5a416"
            ],
            "layout": "IPY_MODEL_7714efcf6b734b95992734487b9665f4"
          }
        },
        "1d66ddc967e6482b9a109f406f6bc5b5": {
          "model_module": "@jupyter-widgets/controls",
          "model_name": "FloatProgressModel",
          "state": {
            "_dom_classes": [],
            "_model_module": "@jupyter-widgets/controls",
            "_model_module_version": "1.5.0",
            "_model_name": "FloatProgressModel",
            "_view_count": null,
            "_view_module": "@jupyter-widgets/controls",
            "_view_module_version": "1.5.0",
            "_view_name": "ProgressView",
            "bar_style": "success",
            "description": "100%",
            "description_tooltip": null,
            "layout": "IPY_MODEL_7382230a09e44481bf4d7e7219fc4eff",
            "max": 553507836,
            "min": 0,
            "orientation": "horizontal",
            "style": "IPY_MODEL_4c0c668a465148c981b5c1ed588d20ee",
            "value": 553507836
          }
        },
        "63c13e4e28e248f08e58a99fffc5a416": {
          "model_module": "@jupyter-widgets/controls",
          "model_name": "HTMLModel",
          "state": {
            "_dom_classes": [],
            "_model_module": "@jupyter-widgets/controls",
            "_model_module_version": "1.5.0",
            "_model_name": "HTMLModel",
            "_view_count": null,
            "_view_module": "@jupyter-widgets/controls",
            "_view_module_version": "1.5.0",
            "_view_name": "HTMLView",
            "description": "",
            "description_tooltip": null,
            "layout": "IPY_MODEL_30ea63b4a1614abe96b838a9024f067d",
            "placeholder": "​",
            "style": "IPY_MODEL_ca67a6e01cfd4efd8cf0ce93a78c444b",
            "value": " 528M/528M [00:07&lt;00:00, 77.9MB/s]"
          }
        },
        "7714efcf6b734b95992734487b9665f4": {
          "model_module": "@jupyter-widgets/base",
          "model_name": "LayoutModel",
          "state": {
            "_model_module": "@jupyter-widgets/base",
            "_model_module_version": "1.2.0",
            "_model_name": "LayoutModel",
            "_view_count": null,
            "_view_module": "@jupyter-widgets/base",
            "_view_module_version": "1.2.0",
            "_view_name": "LayoutView",
            "align_content": null,
            "align_items": null,
            "align_self": null,
            "border": null,
            "bottom": null,
            "display": null,
            "flex": null,
            "flex_flow": null,
            "grid_area": null,
            "grid_auto_columns": null,
            "grid_auto_flow": null,
            "grid_auto_rows": null,
            "grid_column": null,
            "grid_gap": null,
            "grid_row": null,
            "grid_template_areas": null,
            "grid_template_columns": null,
            "grid_template_rows": null,
            "height": null,
            "justify_content": null,
            "justify_items": null,
            "left": null,
            "margin": null,
            "max_height": null,
            "max_width": null,
            "min_height": null,
            "min_width": null,
            "object_fit": null,
            "object_position": null,
            "order": null,
            "overflow": null,
            "overflow_x": null,
            "overflow_y": null,
            "padding": null,
            "right": null,
            "top": null,
            "visibility": null,
            "width": null
          }
        },
        "7382230a09e44481bf4d7e7219fc4eff": {
          "model_module": "@jupyter-widgets/base",
          "model_name": "LayoutModel",
          "state": {
            "_model_module": "@jupyter-widgets/base",
            "_model_module_version": "1.2.0",
            "_model_name": "LayoutModel",
            "_view_count": null,
            "_view_module": "@jupyter-widgets/base",
            "_view_module_version": "1.2.0",
            "_view_name": "LayoutView",
            "align_content": null,
            "align_items": null,
            "align_self": null,
            "border": null,
            "bottom": null,
            "display": null,
            "flex": null,
            "flex_flow": null,
            "grid_area": null,
            "grid_auto_columns": null,
            "grid_auto_flow": null,
            "grid_auto_rows": null,
            "grid_column": null,
            "grid_gap": null,
            "grid_row": null,
            "grid_template_areas": null,
            "grid_template_columns": null,
            "grid_template_rows": null,
            "height": null,
            "justify_content": null,
            "justify_items": null,
            "left": null,
            "margin": null,
            "max_height": null,
            "max_width": null,
            "min_height": null,
            "min_width": null,
            "object_fit": null,
            "object_position": null,
            "order": null,
            "overflow": null,
            "overflow_x": null,
            "overflow_y": null,
            "padding": null,
            "right": null,
            "top": null,
            "visibility": null,
            "width": null
          }
        },
        "4c0c668a465148c981b5c1ed588d20ee": {
          "model_module": "@jupyter-widgets/controls",
          "model_name": "ProgressStyleModel",
          "state": {
            "_model_module": "@jupyter-widgets/controls",
            "_model_module_version": "1.5.0",
            "_model_name": "ProgressStyleModel",
            "_view_count": null,
            "_view_module": "@jupyter-widgets/base",
            "_view_module_version": "1.2.0",
            "_view_name": "StyleView",
            "bar_color": null,
            "description_width": "initial"
          }
        },
        "30ea63b4a1614abe96b838a9024f067d": {
          "model_module": "@jupyter-widgets/base",
          "model_name": "LayoutModel",
          "state": {
            "_model_module": "@jupyter-widgets/base",
            "_model_module_version": "1.2.0",
            "_model_name": "LayoutModel",
            "_view_count": null,
            "_view_module": "@jupyter-widgets/base",
            "_view_module_version": "1.2.0",
            "_view_name": "LayoutView",
            "align_content": null,
            "align_items": null,
            "align_self": null,
            "border": null,
            "bottom": null,
            "display": null,
            "flex": null,
            "flex_flow": null,
            "grid_area": null,
            "grid_auto_columns": null,
            "grid_auto_flow": null,
            "grid_auto_rows": null,
            "grid_column": null,
            "grid_gap": null,
            "grid_row": null,
            "grid_template_areas": null,
            "grid_template_columns": null,
            "grid_template_rows": null,
            "height": null,
            "justify_content": null,
            "justify_items": null,
            "left": null,
            "margin": null,
            "max_height": null,
            "max_width": null,
            "min_height": null,
            "min_width": null,
            "object_fit": null,
            "object_position": null,
            "order": null,
            "overflow": null,
            "overflow_x": null,
            "overflow_y": null,
            "padding": null,
            "right": null,
            "top": null,
            "visibility": null,
            "width": null
          }
        },
        "ca67a6e01cfd4efd8cf0ce93a78c444b": {
          "model_module": "@jupyter-widgets/controls",
          "model_name": "DescriptionStyleModel",
          "state": {
            "_model_module": "@jupyter-widgets/controls",
            "_model_module_version": "1.5.0",
            "_model_name": "DescriptionStyleModel",
            "_view_count": null,
            "_view_module": "@jupyter-widgets/base",
            "_view_module_version": "1.2.0",
            "_view_name": "StyleView",
            "description_width": ""
          }
        }
      }
    }
  },
  "cells": [
    {
      "cell_type": "markdown",
      "metadata": {
        "id": "6KNf9CD2ytqH"
      },
      "source": [
        "## Outline"
      ]
    },
    {
      "cell_type": "markdown",
      "metadata": {
        "id": "BDKI47gsW1Ii"
      },
      "source": [
        "1. Loading datasets - Transforming images\n",
        "2. VGG-16 with modification to network head\n",
        "3. Using pre-trained models\n",
        "4. Storing intermediate models\n",
        "5. Inception v3"
      ]
    },
    {
      "cell_type": "code",
      "metadata": {
        "id": "rbZpqiiiylAg"
      },
      "source": [
        "import matplotlib.pyplot as plt\n",
        "import numpy as np\n",
        "\n",
        "import torch\n",
        "import torchvision\n",
        "import torchvision.transforms as transforms\n",
        "import torch.nn as nn\n",
        "import torch.optim as optim"
      ],
      "execution_count": null,
      "outputs": []
    },
    {
      "cell_type": "code",
      "metadata": {
        "colab": {
          "base_uri": "https://localhost:8080/"
        },
        "id": "1NBprN3Ry2NE",
        "outputId": "3ff172ce-ae0a-4cc3-9a44-dd24c08939f9"
      },
      "source": [
        "device = torch.device(\"cuda:0\" if torch.cuda.is_available() else \"cpu\")\n",
        "print(device)"
      ],
      "execution_count": null,
      "outputs": [
        {
          "output_type": "stream",
          "text": [
            "cuda:0\n"
          ],
          "name": "stdout"
        }
      ]
    },
    {
      "cell_type": "markdown",
      "metadata": {
        "id": "hGzpz3oE1Ikz"
      },
      "source": [
        "## Dataset, transforms, and visualisation"
      ]
    },
    {
      "cell_type": "code",
      "metadata": {
        "id": "Y9c57fNA5Wsi"
      },
      "source": [
        "transform_train = transforms.Compose([\n",
        "    transforms.RandomResizedCrop(224), \n",
        "    transforms.ToTensor(),\n",
        "    transforms.Normalize((0.5, 0.5, 0.5), (0.5, 0.5, 0.5)),\n",
        "    ])\n",
        "\n",
        "transform_test = transforms.Compose([\n",
        "    transforms.RandomResizedCrop(224), \n",
        "    transforms.ToTensor(),\n",
        "    transforms.Normalize((0.5, 0.5, 0.5), (0.5, 0.5, 0.5)),\n",
        "    ])"
      ],
      "execution_count": null,
      "outputs": []
    },
    {
      "cell_type": "code",
      "metadata": {
        "colab": {
          "base_uri": "https://localhost:8080/",
          "height": 148,
          "referenced_widgets": [
            "58d4c8ff778f40e98daf7d28829c82f3",
            "53c34d36394d44e1956ed7e1614c0174",
            "98649b65f60f460782081f3ef3292268",
            "61cf1825adc34bbda210811d7244af86",
            "987b90badeb04807aca7a58a8bb5c13f",
            "3b8ff4553cd24ab9bd445062938f0db9",
            "24fb2474b2d44a05900dde554f3fb7df",
            "fd4250fd31f14b3ea76e1767536bbf40",
            "37cc23646d794ee0b1040a8741802298",
            "7f2e54d70c9d4ecd948cf8713fb6951e",
            "3879e40007fa4a6cbf177779f476fe65",
            "dc614e9f2acb4d128eb1b1c2f27da9c4",
            "5ef2d3b1b588458ebafad185361f3915",
            "aeeee26de1884eb4905fe853a0467089",
            "7c7364e7b0064591b995b0bd9f8c7493",
            "cbff30530a924deebe17a83aca9253e3"
          ]
        },
        "id": "fvsHorMPzISb",
        "outputId": "fe14d5cd-ccaf-41d8-d33a-b9d5e7404a42"
      },
      "source": [
        "trainset = torchvision.datasets.CIFAR10(root='./data', train=True, \n",
        "                                        download=True, \n",
        "                                        transform=transform_train)\n",
        "testset = torchvision.datasets.CIFAR10(root='./data', train=False, \n",
        "                                        download=True, \n",
        "                                        transform=transform_test)"
      ],
      "execution_count": null,
      "outputs": [
        {
          "output_type": "stream",
          "text": [
            "Downloading https://www.cs.toronto.edu/~kriz/cifar-10-python.tar.gz to ./data/cifar-10-python.tar.gz\n"
          ],
          "name": "stdout"
        },
        {
          "output_type": "display_data",
          "data": {
            "application/vnd.jupyter.widget-view+json": {
              "model_id": "58d4c8ff778f40e98daf7d28829c82f3",
              "version_major": 2,
              "version_minor": 0
            },
            "text/plain": [
              "HBox(children=(FloatProgress(value=1.0, bar_style='info', max=1.0), HTML(value='')))"
            ]
          },
          "metadata": {
            "tags": []
          }
        },
        {
          "output_type": "stream",
          "text": [
            "Failed download. Trying https -> http instead. Downloading http://www.cs.toronto.edu/~kriz/cifar-10-python.tar.gz to ./data/cifar-10-python.tar.gz\n"
          ],
          "name": "stdout"
        },
        {
          "output_type": "display_data",
          "data": {
            "application/vnd.jupyter.widget-view+json": {
              "model_id": "37cc23646d794ee0b1040a8741802298",
              "version_major": 2,
              "version_minor": 0
            },
            "text/plain": [
              "HBox(children=(FloatProgress(value=1.0, bar_style='info', max=1.0), HTML(value='')))"
            ]
          },
          "metadata": {
            "tags": []
          }
        },
        {
          "output_type": "stream",
          "text": [
            "Extracting ./data/cifar-10-python.tar.gz to ./data\n",
            "Files already downloaded and verified\n"
          ],
          "name": "stdout"
        }
      ]
    },
    {
      "cell_type": "code",
      "metadata": {
        "id": "V0dOpKtiAG4s"
      },
      "source": [
        "num_classes = 10"
      ],
      "execution_count": null,
      "outputs": []
    },
    {
      "cell_type": "code",
      "metadata": {
        "id": "xTNj3LQY4eTS"
      },
      "source": [
        "batch_size = 4"
      ],
      "execution_count": null,
      "outputs": []
    },
    {
      "cell_type": "code",
      "metadata": {
        "id": "KfLwRIXH08tg"
      },
      "source": [
        "trainloader = torch.utils.data.DataLoader(trainset, batch_size=batch_size, shuffle=True)"
      ],
      "execution_count": null,
      "outputs": []
    },
    {
      "cell_type": "code",
      "metadata": {
        "colab": {
          "base_uri": "https://localhost:8080/"
        },
        "id": "KEOz-75x1NGu",
        "outputId": "a8768e6a-2789-42c0-a8ea-d54429b06f68"
      },
      "source": [
        "dataiter = iter(trainloader)\n",
        "images, labels = dataiter.next()\n",
        "\n",
        "print(images.shape)\n",
        "\n",
        "print(images[1].shape)\n",
        "print(labels[1].item())"
      ],
      "execution_count": null,
      "outputs": [
        {
          "output_type": "stream",
          "text": [
            "torch.Size([4, 3, 224, 224])\n",
            "torch.Size([3, 224, 224])\n",
            "7\n"
          ],
          "name": "stdout"
        }
      ]
    },
    {
      "cell_type": "code",
      "metadata": {
        "id": "5oBeIwYC1N3c"
      },
      "source": [
        "def imshow(img, title):\n",
        "    npimg = img.numpy() / 2 + 0.5\n",
        "    plt.figure(figsize=(batch_size, 1))\n",
        "    plt.axis('off')\n",
        "    plt.imshow(np.transpose(npimg, (1, 2, 0)))\n",
        "    plt.title(title)\n",
        "    plt.show()"
      ],
      "execution_count": null,
      "outputs": []
    },
    {
      "cell_type": "code",
      "metadata": {
        "id": "cfk-SYLY1Sbl"
      },
      "source": [
        "def show_batch_images(dataloader):\n",
        "    images, labels = next(iter(dataloader))\n",
        "    img = torchvision.utils.make_grid(images)\n",
        "    imshow(img, title=[str(x.item()) for x in labels])"
      ],
      "execution_count": null,
      "outputs": []
    },
    {
      "cell_type": "code",
      "metadata": {
        "colab": {
          "base_uri": "https://localhost:8080/",
          "height": 386
        },
        "id": "l_Zi_s3p1htN",
        "outputId": "24cd8e88-eda5-4dd1-fa64-2950888c6a73"
      },
      "source": [
        "for i in range(4):\n",
        "    show_batch_images(trainloader)"
      ],
      "execution_count": null,
      "outputs": [
        {
          "output_type": "display_data",
          "data": {
            "image/png": "[encoded data removed]",
            "text/plain": [
              "<Figure size 288x72 with 1 Axes>"
            ]
          },
          "metadata": {
            "tags": []
          }
        },
        {
          "output_type": "stream",
          "text": [
            "\n",
            "\n"
          ],
          "name": "stdout"
        },
        {
          "output_type": "display_data",
          "data": {
            "image/png": "[encoded data removed]",
            "text/plain": [
              "<Figure size 288x72 with 1 Axes>"
            ]
          },
          "metadata": {
            "tags": []
          }
        },
        {
          "output_type": "display_data",
          "data": {
            "image/png": "[encoded data removed]",
            "text/plain": [
              "<Figure size 288x72 with 1 Axes>"
            ]
          },
          "metadata": {
            "tags": []
          }
        },
        {
          "output_type": "display_data",
          "data": {
            "image/png": "[encoded data removed]",
            "text/plain": [
              "<Figure size 288x72 with 1 Axes>"
            ]
          },
          "metadata": {
            "tags": []
          }
        }
      ]
    },
    {
      "cell_type": "markdown",
      "metadata": {
        "id": "1E-pnTG97DDz"
      },
      "source": [
        "## Creating VGG-16"
      ]
    },
    {
      "cell_type": "markdown",
      "metadata": {
        "id": "_QMSp0gEJLow"
      },
      "source": [
        "https://pytorch.org/docs/master/_modules/torchvision/models/vgg.html"
      ]
    },
    {
      "cell_type": "code",
      "metadata": {
        "id": "Ra33PbJS28P3"
      },
      "source": [
        "from torchvision import models"
      ],
      "execution_count": null,
      "outputs": []
    },
    {
      "cell_type": "code",
      "metadata": {
        "id": "wvte5SSA7G7r"
      },
      "source": [
        "vgg = models.vgg16_bn()"
      ],
      "execution_count": null,
      "outputs": []
    },
    {
      "cell_type": "code",
      "metadata": {
        "colab": {
          "base_uri": "https://localhost:8080/"
        },
        "id": "7w-p73Tz9aZ_",
        "outputId": "cb32edd4-9897-494f-d583-bc148c4f4106"
      },
      "source": [
        "print(vgg)"
      ],
      "execution_count": null,
      "outputs": [
        {
          "output_type": "stream",
          "text": [
            "VGG(\n",
            "  (features): Sequential(\n",
            "    (0): Conv2d(3, 64, kernel_size=(3, 3), stride=(1, 1), padding=(1, 1))\n",
            "    (1): BatchNorm2d(64, eps=1e-05, momentum=0.1, affine=True, track_running_stats=True)\n",
            "    (2): ReLU(inplace=True)\n",
            "    (3): Conv2d(64, 64, kernel_size=(3, 3), stride=(1, 1), padding=(1, 1))\n",
            "    (4): BatchNorm2d(64, eps=1e-05, momentum=0.1, affine=True, track_running_stats=True)\n",
            "    (5): ReLU(inplace=True)\n",
            "    (6): MaxPool2d(kernel_size=2, stride=2, padding=0, dilation=1, ceil_mode=False)\n",
            "    (7): Conv2d(64, 128, kernel_size=(3, 3), stride=(1, 1), padding=(1, 1))\n",
            "    (8): BatchNorm2d(128, eps=1e-05, momentum=0.1, affine=True, track_running_stats=True)\n",
            "    (9): ReLU(inplace=True)\n",
            "    (10): Conv2d(128, 128, kernel_size=(3, 3), stride=(1, 1), padding=(1, 1))\n",
            "    (11): BatchNorm2d(128, eps=1e-05, momentum=0.1, affine=True, track_running_stats=True)\n",
            "    (12): ReLU(inplace=True)\n",
            "    (13): MaxPool2d(kernel_size=2, stride=2, padding=0, dilation=1, ceil_mode=False)\n",
            "    (14): Conv2d(128, 256, kernel_size=(3, 3), stride=(1, 1), padding=(1, 1))\n",
            "    (15): BatchNorm2d(256, eps=1e-05, momentum=0.1, affine=True, track_running_stats=True)\n",
            "    (16): ReLU(inplace=True)\n",
            "    (17): Conv2d(256, 256, kernel_size=(3, 3), stride=(1, 1), padding=(1, 1))\n",
            "    (18): BatchNorm2d(256, eps=1e-05, momentum=0.1, affine=True, track_running_stats=True)\n",
            "    (19): ReLU(inplace=True)\n",
            "    (20): Conv2d(256, 256, kernel_size=(3, 3), stride=(1, 1), padding=(1, 1))\n",
            "    (21): BatchNorm2d(256, eps=1e-05, momentum=0.1, affine=True, track_running_stats=True)\n",
            "    (22): ReLU(inplace=True)\n",
            "    (23): MaxPool2d(kernel_size=2, stride=2, padding=0, dilation=1, ceil_mode=False)\n",
            "    (24): Conv2d(256, 512, kernel_size=(3, 3), stride=(1, 1), padding=(1, 1))\n",
            "    (25): BatchNorm2d(512, eps=1e-05, momentum=0.1, affine=True, track_running_stats=True)\n",
            "    (26): ReLU(inplace=True)\n",
            "    (27): Conv2d(512, 512, kernel_size=(3, 3), stride=(1, 1), padding=(1, 1))\n",
            "    (28): BatchNorm2d(512, eps=1e-05, momentum=0.1, affine=True, track_running_stats=True)\n",
            "    (29): ReLU(inplace=True)\n",
            "    (30): Conv2d(512, 512, kernel_size=(3, 3), stride=(1, 1), padding=(1, 1))\n",
            "    (31): BatchNorm2d(512, eps=1e-05, momentum=0.1, affine=True, track_running_stats=True)\n",
            "    (32): ReLU(inplace=True)\n",
            "    (33): MaxPool2d(kernel_size=2, stride=2, padding=0, dilation=1, ceil_mode=False)\n",
            "    (34): Conv2d(512, 512, kernel_size=(3, 3), stride=(1, 1), padding=(1, 1))\n",
            "    (35): BatchNorm2d(512, eps=1e-05, momentum=0.1, affine=True, track_running_stats=True)\n",
            "    (36): ReLU(inplace=True)\n",
            "    (37): Conv2d(512, 512, kernel_size=(3, 3), stride=(1, 1), padding=(1, 1))\n",
            "    (38): BatchNorm2d(512, eps=1e-05, momentum=0.1, affine=True, track_running_stats=True)\n",
            "    (39): ReLU(inplace=True)\n",
            "    (40): Conv2d(512, 512, kernel_size=(3, 3), stride=(1, 1), padding=(1, 1))\n",
            "    (41): BatchNorm2d(512, eps=1e-05, momentum=0.1, affine=True, track_running_stats=True)\n",
            "    (42): ReLU(inplace=True)\n",
            "    (43): MaxPool2d(kernel_size=2, stride=2, padding=0, dilation=1, ceil_mode=False)\n",
            "  )\n",
            "  (avgpool): AdaptiveAvgPool2d(output_size=(7, 7))\n",
            "  (classifier): Sequential(\n",
            "    (0): Linear(in_features=25088, out_features=4096, bias=True)\n",
            "    (1): ReLU(inplace=True)\n",
            "    (2): Dropout(p=0.5, inplace=False)\n",
            "    (3): Linear(in_features=4096, out_features=4096, bias=True)\n",
            "    (4): ReLU(inplace=True)\n",
            "    (5): Dropout(p=0.5, inplace=False)\n",
            "    (6): Linear(in_features=4096, out_features=1000, bias=True)\n",
            "  )\n",
            ")\n"
          ],
          "name": "stdout"
        }
      ]
    },
    {
      "cell_type": "code",
      "metadata": {
        "colab": {
          "base_uri": "https://localhost:8080/"
        },
        "id": "N1bQdxQz-Dil",
        "outputId": "f58a9133-1f06-4e98-bb1b-f54a485bdf44"
      },
      "source": [
        "print(vgg.features[0])"
      ],
      "execution_count": null,
      "outputs": [
        {
          "output_type": "stream",
          "text": [
            "Conv2d(3, 64, kernel_size=(3, 3), stride=(1, 1), padding=(1, 1))\n"
          ],
          "name": "stdout"
        }
      ]
    },
    {
      "cell_type": "code",
      "metadata": {
        "colab": {
          "base_uri": "https://localhost:8080/"
        },
        "id": "CX9PohSB-1Dx",
        "outputId": "8d4acd26-061a-4ff1-b9ae-7dc56fe7e2bf"
      },
      "source": [
        "print(vgg.classifier[6])"
      ],
      "execution_count": null,
      "outputs": [
        {
          "output_type": "stream",
          "text": [
            "Linear(in_features=4096, out_features=1000, bias=True)\n"
          ],
          "name": "stdout"
        }
      ]
    },
    {
      "cell_type": "code",
      "metadata": {
        "colab": {
          "base_uri": "https://localhost:8080/"
        },
        "id": "koDRbWi8_ApT",
        "outputId": "8862747d-602f-4545-c6e7-398aaf335cc2"
      },
      "source": [
        "final_in_features = vgg.classifier[6].in_features\n",
        "mod_classifier = list(vgg.classifier.children())[:-1]\n",
        "mod_classifier.extend([nn.Linear(final_in_features, num_classes)])\n",
        "print(mod_classifier)"
      ],
      "execution_count": null,
      "outputs": [
        {
          "output_type": "stream",
          "text": [
            "[Linear(in_features=25088, out_features=4096, bias=True), ReLU(inplace=True), Dropout(p=0.5, inplace=False), Linear(in_features=4096, out_features=4096, bias=True), ReLU(inplace=True), Dropout(p=0.5, inplace=False), Linear(in_features=4096, out_features=10, bias=True)]\n"
          ],
          "name": "stdout"
        }
      ]
    },
    {
      "cell_type": "code",
      "metadata": {
        "colab": {
          "base_uri": "https://localhost:8080/"
        },
        "id": "_vHjXi1j_glv",
        "outputId": "9092e74c-156d-491c-9ee9-cbe752acdea4"
      },
      "source": [
        "vgg.classifier = nn.Sequential(*mod_classifier)\n",
        "print(vgg)"
      ],
      "execution_count": null,
      "outputs": [
        {
          "output_type": "stream",
          "text": [
            "VGG(\n",
            "  (features): Sequential(\n",
            "    (0): Conv2d(3, 64, kernel_size=(3, 3), stride=(1, 1), padding=(1, 1))\n",
            "    (1): BatchNorm2d(64, eps=1e-05, momentum=0.1, affine=True, track_running_stats=True)\n",
            "    (2): ReLU(inplace=True)\n",
            "    (3): Conv2d(64, 64, kernel_size=(3, 3), stride=(1, 1), padding=(1, 1))\n",
            "    (4): BatchNorm2d(64, eps=1e-05, momentum=0.1, affine=True, track_running_stats=True)\n",
            "    (5): ReLU(inplace=True)\n",
            "    (6): MaxPool2d(kernel_size=2, stride=2, padding=0, dilation=1, ceil_mode=False)\n",
            "    (7): Conv2d(64, 128, kernel_size=(3, 3), stride=(1, 1), padding=(1, 1))\n",
            "    (8): BatchNorm2d(128, eps=1e-05, momentum=0.1, affine=True, track_running_stats=True)\n",
            "    (9): ReLU(inplace=True)\n",
            "    (10): Conv2d(128, 128, kernel_size=(3, 3), stride=(1, 1), padding=(1, 1))\n",
            "    (11): BatchNorm2d(128, eps=1e-05, momentum=0.1, affine=True, track_running_stats=True)\n",
            "    (12): ReLU(inplace=True)\n",
            "    (13): MaxPool2d(kernel_size=2, stride=2, padding=0, dilation=1, ceil_mode=False)\n",
            "    (14): Conv2d(128, 256, kernel_size=(3, 3), stride=(1, 1), padding=(1, 1))\n",
            "    (15): BatchNorm2d(256, eps=1e-05, momentum=0.1, affine=True, track_running_stats=True)\n",
            "    (16): ReLU(inplace=True)\n",
            "    (17): Conv2d(256, 256, kernel_size=(3, 3), stride=(1, 1), padding=(1, 1))\n",
            "    (18): BatchNorm2d(256, eps=1e-05, momentum=0.1, affine=True, track_running_stats=True)\n",
            "    (19): ReLU(inplace=True)\n",
            "    (20): Conv2d(256, 256, kernel_size=(3, 3), stride=(1, 1), padding=(1, 1))\n",
            "    (21): BatchNorm2d(256, eps=1e-05, momentum=0.1, affine=True, track_running_stats=True)\n",
            "    (22): ReLU(inplace=True)\n",
            "    (23): MaxPool2d(kernel_size=2, stride=2, padding=0, dilation=1, ceil_mode=False)\n",
            "    (24): Conv2d(256, 512, kernel_size=(3, 3), stride=(1, 1), padding=(1, 1))\n",
            "    (25): BatchNorm2d(512, eps=1e-05, momentum=0.1, affine=True, track_running_stats=True)\n",
            "    (26): ReLU(inplace=True)\n",
            "    (27): Conv2d(512, 512, kernel_size=(3, 3), stride=(1, 1), padding=(1, 1))\n",
            "    (28): BatchNorm2d(512, eps=1e-05, momentum=0.1, affine=True, track_running_stats=True)\n",
            "    (29): ReLU(inplace=True)\n",
            "    (30): Conv2d(512, 512, kernel_size=(3, 3), stride=(1, 1), padding=(1, 1))\n",
            "    (31): BatchNorm2d(512, eps=1e-05, momentum=0.1, affine=True, track_running_stats=True)\n",
            "    (32): ReLU(inplace=True)\n",
            "    (33): MaxPool2d(kernel_size=2, stride=2, padding=0, dilation=1, ceil_mode=False)\n",
            "    (34): Conv2d(512, 512, kernel_size=(3, 3), stride=(1, 1), padding=(1, 1))\n",
            "    (35): BatchNorm2d(512, eps=1e-05, momentum=0.1, affine=True, track_running_stats=True)\n",
            "    (36): ReLU(inplace=True)\n",
            "    (37): Conv2d(512, 512, kernel_size=(3, 3), stride=(1, 1), padding=(1, 1))\n",
            "    (38): BatchNorm2d(512, eps=1e-05, momentum=0.1, affine=True, track_running_stats=True)\n",
            "    (39): ReLU(inplace=True)\n",
            "    (40): Conv2d(512, 512, kernel_size=(3, 3), stride=(1, 1), padding=(1, 1))\n",
            "    (41): BatchNorm2d(512, eps=1e-05, momentum=0.1, affine=True, track_running_stats=True)\n",
            "    (42): ReLU(inplace=True)\n",
            "    (43): MaxPool2d(kernel_size=2, stride=2, padding=0, dilation=1, ceil_mode=False)\n",
            "  )\n",
            "  (avgpool): AdaptiveAvgPool2d(output_size=(7, 7))\n",
            "  (classifier): Sequential(\n",
            "    (0): Linear(in_features=25088, out_features=4096, bias=True)\n",
            "    (1): ReLU(inplace=True)\n",
            "    (2): Dropout(p=0.5, inplace=False)\n",
            "    (3): Linear(in_features=4096, out_features=4096, bias=True)\n",
            "    (4): ReLU(inplace=True)\n",
            "    (5): Dropout(p=0.5, inplace=False)\n",
            "    (6): Linear(in_features=4096, out_features=10, bias=True)\n",
            "  )\n",
            ")\n"
          ],
          "name": "stdout"
        }
      ]
    },
    {
      "cell_type": "markdown",
      "metadata": {
        "id": "DVR1FiuJ-BzX"
      },
      "source": [
        "### Train CIFAR10"
      ]
    },
    {
      "cell_type": "code",
      "metadata": {
        "id": "pKnlGE1q7JtN"
      },
      "source": [
        "batch_size = 16\n",
        "\n",
        "trainloader = torch.utils.data.DataLoader(trainset, batch_size=batch_size, shuffle=True)\n",
        "testloader = torch.utils.data.DataLoader(testset, batch_size=batch_size, shuffle=False)"
      ],
      "execution_count": null,
      "outputs": []
    },
    {
      "cell_type": "code",
      "metadata": {
        "id": "MtRHmDs_BvZG"
      },
      "source": [
        "def evaluation(dataloader, model):\n",
        "    total, correct = 0, 0\n",
        "    for data in dataloader:\n",
        "        inputs, labels = data\n",
        "        inputs, labels = inputs.to(device), labels.to(device)\n",
        "        outputs = model(inputs)\n",
        "        _, pred = torch.max(outputs.data, 1)\n",
        "        total += labels.size(0)\n",
        "        correct += (pred == labels).sum().item()\n",
        "    return 100 * correct / total"
      ],
      "execution_count": null,
      "outputs": []
    },
    {
      "cell_type": "code",
      "metadata": {
        "id": "htVdEliECDsz"
      },
      "source": [
        "vgg = vgg.to(device)\n",
        "loss_fn = nn.CrossEntropyLoss()\n",
        "opt = optim.SGD(vgg.parameters(), lr=0.05)"
      ],
      "execution_count": null,
      "outputs": []
    },
    {
      "cell_type": "code",
      "metadata": {
        "colab": {
          "base_uri": "https://localhost:8080/",
          "height": 823
        },
        "id": "xSWnZJxjBbwW",
        "outputId": "e61a1a90-7a87-42ba-c7f4-1e825f9c914f"
      },
      "source": [
        "loss_epoch_arr = []\n",
        "max_epochs = 1\n",
        "\n",
        "n_iters = np.ceil(50000/batch_size)\n",
        "\n",
        "for epoch in range(max_epochs):\n",
        "\n",
        "    for i, data in enumerate(trainloader, 0):\n",
        "\n",
        "        inputs, labels = data\n",
        "        inputs, labels = inputs.to(device), labels.to(device)\n",
        "\n",
        "        opt.zero_grad()\n",
        "\n",
        "        outputs = vgg(inputs)\n",
        "        loss = loss_fn(outputs, labels)\n",
        "        loss.backward()\n",
        "        opt.step()\n",
        "        \n",
        "        del inputs, labels, outputs\n",
        "        torch.cuda.empty_cache()\n",
        "        \n",
        "        if i % 100 == 0:\n",
        "            print('Iteration: %d/%d, Loss: %0.2f' % (i, n_iters, loss.item()))\n",
        "        \n",
        "    loss_epoch_arr.append(loss.item())\n",
        "        \n",
        "    print('Epoch: %d/%d, Test acc: %0.2f, Train acc: %0.2f' % (\n",
        "        epoch, max_epochs, \n",
        "        evaluation(testloader, vgg), evaluation(trainloader, vgg)))\n",
        "    \n",
        "plt.plot(loss_epoch_arr)\n",
        "plt.show()"
      ],
      "execution_count": null,
      "outputs": [
        {
          "output_type": "stream",
          "text": [
            "Iteration: 0/3125, Loss: 2.56\n",
            "Iteration: 100/3125, Loss: 2.67\n",
            "Iteration: 200/3125, Loss: 2.39\n",
            "Iteration: 300/3125, Loss: 2.39\n",
            "Iteration: 400/3125, Loss: 2.21\n",
            "Iteration: 500/3125, Loss: 2.28\n",
            "Iteration: 600/3125, Loss: 2.13\n",
            "Iteration: 700/3125, Loss: 2.66\n",
            "Iteration: 800/3125, Loss: 2.61\n",
            "Iteration: 900/3125, Loss: 2.38\n",
            "Iteration: 1000/3125, Loss: 2.19\n",
            "Iteration: 1100/3125, Loss: 2.03\n",
            "Iteration: 1200/3125, Loss: 2.31\n",
            "Iteration: 1300/3125, Loss: 2.08\n",
            "Iteration: 1400/3125, Loss: 2.15\n",
            "Iteration: 1500/3125, Loss: 2.05\n",
            "Iteration: 1600/3125, Loss: 2.03\n",
            "Iteration: 1700/3125, Loss: 2.09\n",
            "Iteration: 1800/3125, Loss: 2.01\n",
            "Iteration: 1900/3125, Loss: 2.43\n",
            "Iteration: 2000/3125, Loss: 1.97\n",
            "Iteration: 2100/3125, Loss: 2.16\n",
            "Iteration: 2200/3125, Loss: 1.94\n",
            "Iteration: 2300/3125, Loss: 2.06\n",
            "Iteration: 2400/3125, Loss: 1.68\n",
            "Iteration: 2500/3125, Loss: 1.91\n",
            "Iteration: 2600/3125, Loss: 1.78\n",
            "Iteration: 2700/3125, Loss: 1.92\n",
            "Iteration: 2800/3125, Loss: 1.97\n",
            "Iteration: 2900/3125, Loss: 1.74\n",
            "Iteration: 3000/3125, Loss: 1.79\n",
            "Iteration: 3100/3125, Loss: 1.82\n",
            "Epoch: 0/1, Test acc: 27.44, Train acc: 26.59\n"
          ],
          "name": "stdout"
        },
        {
          "output_type": "display_data",
          "data": {
            "image/png": "[encoded data removed]",
            "text/plain": [
              "<Figure size 432x288 with 1 Axes>"
            ]
          },
          "metadata": {
            "tags": []
          }
        }
      ]
    },
    {
      "cell_type": "markdown",
      "metadata": {
        "id": "Bh4gREC-IGFB"
      },
      "source": [
        "### Freeze layers of Convolutional Operations"
      ]
    },
    {
      "cell_type": "code",
      "metadata": {
        "id": "3aD1lt1qcJOU"
      },
      "source": [
        "batch_size = 16\n",
        "\n",
        "trainloader = torch.utils.data.DataLoader(trainset, batch_size=batch_size, shuffle=True)\n",
        "testloader = torch.utils.data.DataLoader(testset, batch_size=batch_size, shuffle=False)"
      ],
      "execution_count": null,
      "outputs": []
    },
    {
      "cell_type": "code",
      "metadata": {
        "colab": {
          "base_uri": "https://localhost:8080/",
          "height": 82,
          "referenced_widgets": [
            "09becf37cc1242e9a80cb13445613e63",
            "1d66ddc967e6482b9a109f406f6bc5b5",
            "63c13e4e28e248f08e58a99fffc5a416",
            "7714efcf6b734b95992734487b9665f4",
            "7382230a09e44481bf4d7e7219fc4eff",
            "4c0c668a465148c981b5c1ed588d20ee",
            "30ea63b4a1614abe96b838a9024f067d",
            "ca67a6e01cfd4efd8cf0ce93a78c444b"
          ]
        },
        "id": "FzniE5sKKlnY",
        "outputId": "95678ff0-1a5a-4672-be3f-04036a007b2b"
      },
      "source": [
        "vgg = models.vgg16_bn(pretrained=True)"
      ],
      "execution_count": null,
      "outputs": [
        {
          "output_type": "stream",
          "text": [
            "Downloading: \"https://download.pytorch.org/models/vgg16_bn-6c64b313.pth\" to /root/.cache/torch/hub/checkpoints/vgg16_bn-6c64b313.pth\n"
          ],
          "name": "stderr"
        },
        {
          "output_type": "display_data",
          "data": {
            "application/vnd.jupyter.widget-view+json": {
              "model_id": "09becf37cc1242e9a80cb13445613e63",
              "version_major": 2,
              "version_minor": 0
            },
            "text/plain": [
              "HBox(children=(FloatProgress(value=0.0, max=553507836.0), HTML(value='')))"
            ]
          },
          "metadata": {
            "tags": []
          }
        },
        {
          "output_type": "stream",
          "text": [
            "\n"
          ],
          "name": "stdout"
        }
      ]
    },
    {
      "cell_type": "code",
      "metadata": {
        "id": "MzaHEHaczpWS"
      },
      "source": [
        "for param in vgg.parameters():\n",
        "    param.requires_grad = False"
      ],
      "execution_count": null,
      "outputs": []
    },
    {
      "cell_type": "code",
      "metadata": {
        "id": "YFAhAvahzrRh"
      },
      "source": [
        "final_in_features = vgg.classifier[6].in_features\n",
        "vgg.classifier[6] = nn.Linear(final_in_features, num_classes)"
      ],
      "execution_count": null,
      "outputs": []
    },
    {
      "cell_type": "code",
      "metadata": {
        "colab": {
          "base_uri": "https://localhost:8080/"
        },
        "id": "uqXCJEiK0Z2V",
        "outputId": "c3373724-8609-453f-9eaf-985c269476c8"
      },
      "source": [
        "for param in vgg.parameters():\n",
        "    if param.requires_grad:\n",
        "        print(param.shape)"
      ],
      "execution_count": null,
      "outputs": [
        {
          "output_type": "stream",
          "text": [
            "torch.Size([10, 4096])\n",
            "torch.Size([10])\n"
          ],
          "name": "stdout"
        }
      ]
    },
    {
      "cell_type": "code",
      "metadata": {
        "id": "lH-99npmPRUk"
      },
      "source": [
        "vgg = vgg.to(device)\n",
        "loss_fn = nn.CrossEntropyLoss()\n",
        "opt = optim.SGD(vgg.parameters(), lr=0.05)"
      ],
      "execution_count": null,
      "outputs": []
    },
    {
      "cell_type": "code",
      "metadata": {
        "colab": {
          "base_uri": "https://localhost:8080/",
          "height": 819
        },
        "id": "5HuWwxaxIMTV",
        "outputId": "a27ea641-26bf-4cac-a640-892f9dd09cfb"
      },
      "source": [
        "loss_epoch_arr = []\n",
        "max_epochs = 1\n",
        "\n",
        "n_iters = np.ceil(50000/batch_size)\n",
        "\n",
        "for epoch in range(max_epochs):\n",
        "\n",
        "    for i, data in enumerate(trainloader, 0):\n",
        "\n",
        "        inputs, labels = data\n",
        "        inputs, labels = inputs.to(device), labels.to(device)\n",
        "\n",
        "        opt.zero_grad()\n",
        "\n",
        "        outputs = vgg(inputs)\n",
        "        loss = loss_fn(outputs, labels)\n",
        "        loss.backward()\n",
        "        opt.step()\n",
        "        \n",
        "        if i % 100 == 0:\n",
        "            print('Iteration: %d/%d, Loss: %0.2f' % (i, n_iters, loss.item()))\n",
        "            \n",
        "        del inputs, labels, outputs\n",
        "        torch.cuda.empty_cache()\n",
        "        \n",
        "    loss_epoch_arr.append(loss.item())\n",
        "        \n",
        "    print('Epoch: %d/%d, Test acc: %0.2f, Train acc: %0.2f' % (\n",
        "        epoch, max_epochs, \n",
        "        evaluation(testloader, vgg), evaluation(trainloader, vgg)))\n",
        "    \n",
        "    \n",
        "plt.plot(loss_epoch_arr)\n",
        "plt.show()"
      ],
      "execution_count": null,
      "outputs": [
        {
          "output_type": "stream",
          "text": [
            "Iteration: 0/3125, Loss: 2.35\n",
            "Iteration: 100/3125, Loss: 2.47\n",
            "Iteration: 200/3125, Loss: 1.53\n",
            "Iteration: 300/3125, Loss: 1.85\n",
            "Iteration: 400/3125, Loss: 1.91\n",
            "Iteration: 500/3125, Loss: 1.89\n",
            "Iteration: 600/3125, Loss: 1.75\n",
            "Iteration: 700/3125, Loss: 1.10\n",
            "Iteration: 800/3125, Loss: 1.20\n",
            "Iteration: 900/3125, Loss: 2.74\n",
            "Iteration: 1000/3125, Loss: 1.48\n",
            "Iteration: 1100/3125, Loss: 1.38\n",
            "Iteration: 1200/3125, Loss: 1.59\n",
            "Iteration: 1300/3125, Loss: 2.73\n",
            "Iteration: 1400/3125, Loss: 2.13\n",
            "Iteration: 1500/3125, Loss: 2.72\n",
            "Iteration: 1600/3125, Loss: 2.55\n",
            "Iteration: 1700/3125, Loss: 1.29\n",
            "Iteration: 1800/3125, Loss: 1.28\n",
            "Iteration: 1900/3125, Loss: 2.23\n",
            "Iteration: 2000/3125, Loss: 1.88\n",
            "Iteration: 2100/3125, Loss: 2.93\n",
            "Iteration: 2200/3125, Loss: 1.86\n",
            "Iteration: 2300/3125, Loss: 1.22\n",
            "Iteration: 2400/3125, Loss: 2.61\n",
            "Iteration: 2500/3125, Loss: 1.08\n",
            "Iteration: 2600/3125, Loss: 3.16\n",
            "Iteration: 2700/3125, Loss: 1.88\n",
            "Iteration: 2800/3125, Loss: 2.60\n",
            "Iteration: 2900/3125, Loss: 1.55\n",
            "Iteration: 3000/3125, Loss: 1.97\n",
            "Iteration: 3100/3125, Loss: 2.02\n",
            "Epoch: 0/1, Test acc: 38.94, Train acc: 39.14\n"
          ],
          "name": "stdout"
        },
        {
          "output_type": "display_data",
          "data": {
            "image/png": "[encoded data removed]",
            "text/plain": [
              "<Figure size 432x288 with 1 Axes>"
            ]
          },
          "metadata": {
            "tags": []
          }
        }
      ]
    },
    {
      "cell_type": "markdown",
      "metadata": {
        "id": "AeacSwlg5p2r"
      },
      "source": [
        "### With model copies"
      ]
    },
    {
      "cell_type": "code",
      "metadata": {
        "id": "4-dZMeUTpAxC"
      },
      "source": [
        "import copy"
      ],
      "execution_count": null,
      "outputs": []
    },
    {
      "cell_type": "code",
      "metadata": {
        "colab": {
          "background_save": true,
          "base_uri": "https://localhost:8080/"
        },
        "id": "Wf0qM_-PlXl-",
        "outputId": "1bc8d594-9c2f-4839-9205-01cc402880e3"
      },
      "source": [
        "loss_epoch_arr = []\n",
        "max_epochs = 1\n",
        "\n",
        "min_loss = 1000\n",
        "\n",
        "n_iters = np.ceil(50000/batch_size)\n",
        "\n",
        "for epoch in range(max_epochs):\n",
        "\n",
        "    for i, data in enumerate(trainloader, 0):\n",
        "\n",
        "        inputs, labels = data\n",
        "        inputs, labels = inputs.to(device), labels.to(device)\n",
        "\n",
        "        opt.zero_grad()\n",
        "\n",
        "        outputs = vgg(inputs)\n",
        "        loss = loss_fn(outputs, labels)\n",
        "        loss.backward()\n",
        "        opt.step()\n",
        "        \n",
        "        if min_loss > loss.item():\n",
        "            min_loss = loss.item()\n",
        "            best_model = copy.deepcopy(vgg.state_dict())\n",
        "            print('Min loss %0.2f' % min_loss)\n",
        "        \n",
        "        if i % 100 == 0:\n",
        "            print('Iteration: %d/%d, Loss: %0.2f' % (i, n_iters, loss.item()))\n",
        "            \n",
        "        del inputs, labels, outputs\n",
        "        torch.cuda.empty_cache()\n",
        "        \n",
        "    loss_epoch_arr.append(loss.item())"
      ],
      "execution_count": null,
      "outputs": [
        {
          "output_type": "stream",
          "text": [
            "Min loss 2.90\n",
            "Iteration: 0/3125, Loss: 2.90\n",
            "Min loss 1.86\n",
            "Min loss 1.62\n",
            "Min loss 1.53\n",
            "Min loss 1.09\n",
            "Min loss 0.84\n",
            "Iteration: 100/3125, Loss: 2.94\n",
            "Iteration: 200/3125, Loss: 4.09\n",
            "Min loss 0.73\n",
            "Min loss 0.68\n",
            "Iteration: 300/3125, Loss: 2.12\n",
            "Iteration: 400/3125, Loss: 1.82\n",
            "Iteration: 500/3125, Loss: 2.12\n",
            "Iteration: 600/3125, Loss: 2.95\n",
            "Iteration: 700/3125, Loss: 3.27\n",
            "Iteration: 800/3125, Loss: 2.00\n",
            "Iteration: 900/3125, Loss: 2.71\n",
            "Iteration: 1000/3125, Loss: 2.83\n",
            "Min loss 0.46\n",
            "Iteration: 1100/3125, Loss: 1.10\n",
            "Iteration: 1200/3125, Loss: 2.80\n",
            "Iteration: 1300/3125, Loss: 2.22\n",
            "Iteration: 1400/3125, Loss: 2.40\n",
            "Iteration: 1500/3125, Loss: 2.33\n",
            "Iteration: 1600/3125, Loss: 2.57\n",
            "Iteration: 1700/3125, Loss: 1.71\n",
            "Iteration: 1800/3125, Loss: 2.09\n",
            "Iteration: 1900/3125, Loss: 2.50\n",
            "Iteration: 2000/3125, Loss: 2.26\n",
            "Iteration: 2100/3125, Loss: 3.77\n",
            "Iteration: 2200/3125, Loss: 1.73\n",
            "Iteration: 2300/3125, Loss: 1.93\n",
            "Iteration: 2400/3125, Loss: 2.46\n",
            "Iteration: 2500/3125, Loss: 1.91\n",
            "Iteration: 2600/3125, Loss: 3.11\n",
            "Iteration: 2700/3125, Loss: 2.68\n",
            "Iteration: 2800/3125, Loss: 1.66\n",
            "Iteration: 2900/3125, Loss: 1.83\n",
            "Iteration: 3000/3125, Loss: 1.14\n",
            "Iteration: 3100/3125, Loss: 2.89\n"
          ],
          "name": "stdout"
        }
      ]
    },
    {
      "cell_type": "code",
      "metadata": {
        "colab": {
          "background_save": true
        },
        "id": "_2GAOmBytwZ9",
        "outputId": "726557c7-7919-4fa2-97b8-fb9234d95ec0"
      },
      "source": [
        "vgg.load_state_dict(best_model)\n",
        "print(evaluation(trainloader, vgg), evaluation(testloader, vgg))"
      ],
      "execution_count": null,
      "outputs": [
        {
          "output_type": "stream",
          "text": [
            "46.684 46.22\n"
          ],
          "name": "stdout"
        }
      ]
    },
    {
      "cell_type": "markdown",
      "metadata": {
        "id": "asFT3q7vdDbd"
      },
      "source": [
        "## Inception Model"
      ]
    },
    {
      "cell_type": "markdown",
      "metadata": {
        "id": "k-gBu2zCGWE8"
      },
      "source": [
        "https://pytorch.org/docs/master/_modules/torchvision/models/inception.html"
      ]
    },
    {
      "cell_type": "code",
      "metadata": {
        "id": "rpAr08aGIOle"
      },
      "source": [
        "inception = models.inception_v3(pretrained=True)"
      ],
      "execution_count": null,
      "outputs": []
    },
    {
      "cell_type": "code",
      "metadata": {
        "id": "TM_ACRUHdMfi"
      },
      "source": [
        "print(inception)"
      ],
      "execution_count": null,
      "outputs": []
    },
    {
      "cell_type": "code",
      "metadata": {
        "id": "Nbu0JobP6ea9"
      },
      "source": [
        "for param in inception.parameters():\n",
        "    param.requires_grad = False"
      ],
      "execution_count": null,
      "outputs": []
    },
    {
      "cell_type": "code",
      "metadata": {
        "id": "j31it2qX5Nfs"
      },
      "source": [
        "aux_in_features = inception.AuxLogits.fc.in_features\n",
        "inception.AuxLogits.fc = nn.Linear(aux_in_features, num_classes)"
      ],
      "execution_count": null,
      "outputs": []
    },
    {
      "cell_type": "code",
      "metadata": {
        "id": "7-M6nGOh6Xg2"
      },
      "source": [
        "for param in inception.parameters():\n",
        "    if param.requires_grad:\n",
        "        print(param.shape)"
      ],
      "execution_count": null,
      "outputs": []
    },
    {
      "cell_type": "code",
      "metadata": {
        "id": "pOI1Au2A6l9X"
      },
      "source": [
        "in_features = inception.fc.in_features\n",
        "inception.fc = nn.Linear(in_features, num_classes)"
      ],
      "execution_count": null,
      "outputs": []
    },
    {
      "cell_type": "code",
      "metadata": {
        "id": "sF5pPlUS7I-7"
      },
      "source": [
        "for param in inception.parameters():\n",
        "    if param.requires_grad:\n",
        "        print(param.shape)"
      ],
      "execution_count": null,
      "outputs": []
    },
    {
      "cell_type": "code",
      "metadata": {
        "id": "vMSMZa_j7JXG"
      },
      "source": [
        "transform_train = transforms.Compose([\n",
        "    transforms.RandomResizedCrop(299), \n",
        "    transforms.ToTensor(),\n",
        "    transforms.Normalize((0.5, 0.5, 0.5), (0.5, 0.5, 0.5)),\n",
        "    ])\n",
        "\n",
        "transform_test = transforms.Compose([\n",
        "    transforms.RandomResizedCrop(299), \n",
        "    transforms.ToTensor(),\n",
        "    transforms.Normalize((0.5, 0.5, 0.5), (0.5, 0.5, 0.5)),\n",
        "    ])"
      ],
      "execution_count": null,
      "outputs": []
    },
    {
      "cell_type": "code",
      "metadata": {
        "id": "kYVy8C0H7vL7"
      },
      "source": [
        "trainset = torchvision.datasets.CIFAR10(root='./data', train=True, \n",
        "                                        download=True, \n",
        "                                        transform=transform_train)\n",
        "testset = torchvision.datasets.CIFAR10(root='./data', train=False, \n",
        "                                        download=True, \n",
        "                                        transform=transform_test)"
      ],
      "execution_count": null,
      "outputs": []
    },
    {
      "cell_type": "code",
      "metadata": {
        "id": "tkUGBe3x7zld"
      },
      "source": [
        "batch_size=16\n",
        "\n",
        "trainloader = torch.utils.data.DataLoader(trainset, batch_size=batch_size, shuffle=True)\n",
        "testloader = torch.utils.data.DataLoader(testset, batch_size=batch_size, shuffle=False)"
      ],
      "execution_count": null,
      "outputs": []
    },
    {
      "cell_type": "code",
      "metadata": {
        "id": "jeKDmSV98QfZ"
      },
      "source": [
        "inception = inception.to(device)\n",
        "loss_fn = nn.CrossEntropyLoss()\n",
        "opt = optim.SGD(inception.parameters(), lr=0.01)"
      ],
      "execution_count": null,
      "outputs": []
    },
    {
      "cell_type": "code",
      "metadata": {
        "id": "Ou_Q_JwK_fqn"
      },
      "source": [
        "def evaluation_inception(dataloader, model):\n",
        "    total, correct = 0, 0\n",
        "    for data in dataloader:\n",
        "        inputs, labels = data\n",
        "        inputs, labels = inputs.to(device), labels.to(device)\n",
        "        outputs, aux_outputs = model(inputs)\n",
        "        _, pred = torch.max(outputs.data, 1)\n",
        "        total += labels.size(0)\n",
        "        correct += (pred == labels).sum().item()\n",
        "    return 100 * correct / total"
      ],
      "execution_count": null,
      "outputs": []
    },
    {
      "cell_type": "code",
      "metadata": {
        "id": "VqmnOJqP75AK"
      },
      "source": [
        "loss_epoch_arr = []\n",
        "max_epochs = 1\n",
        "\n",
        "min_loss = 1000\n",
        "\n",
        "n_iters = np.ceil(50000/batch_size)\n",
        "\n",
        "for epoch in range(max_epochs):\n",
        "\n",
        "    for i, data in enumerate(trainloader, 0):\n",
        "\n",
        "        inputs, labels = data\n",
        "        inputs, labels = inputs.to(device), labels.to(device)\n",
        "\n",
        "        opt.zero_grad()\n",
        "\n",
        "        outputs, aux_outputs = inception(inputs)\n",
        "        loss = loss_fn(outputs, labels) + 0.3 * loss_fn(aux_outputs, labels)\n",
        "        loss.backward()\n",
        "        opt.step()\n",
        "        \n",
        "        if min_loss > loss.item():\n",
        "            min_loss = loss.item()\n",
        "            best_model = copy.deepcopy(inception.state_dict())\n",
        "            print('Min loss %0.2f' % min_loss)\n",
        "        \n",
        "        if i % 100 == 0:\n",
        "            print('Iteration: %d/%d, Loss: %0.2f' % (i, n_iters, loss.item()))\n",
        "            \n",
        "        del inputs, labels, outputs\n",
        "        torch.cuda.empty_cache()\n",
        "        \n",
        "    loss_epoch_arr.append(loss.item())\n",
        "        \n",
        "    print('Epoch: %d/%d, Test acc: %0.2f, Train acc: %0.2f' % (\n",
        "        epoch, max_epochs, \n",
        "        evaluation_inception(testloader, inception), \n",
        "        evaluation_inception(trainloader, inception)))\n",
        "    \n",
        "    \n",
        "plt.plot(loss_epoch_arr)\n",
        "plt.show()"
      ],
      "execution_count": null,
      "outputs": []
    },
    {
      "cell_type": "code",
      "metadata": {
        "id": "YfcUcxaL8T_U"
      },
      "source": [
        "inception.load_state_dict(best_model)\n",
        "print(evaluation_inception(trainloader, inception), evaluation_inception(testloader, inception))"
      ],
      "execution_count": null,
      "outputs": []
    }
  ]
}